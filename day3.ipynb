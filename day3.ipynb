{
 "cells": [
  {
   "cell_type": "code",
   "execution_count": 41,
   "metadata": {
    "collapsed": false
   },
   "outputs": [],
   "source": [
    "import matplotlib as plt\n",
    "%matplotlib inline\n",
    "from scipy.ndimage import imread\n",
    "import numpy\n",
    "\n",
    "ww= imread('ww.jpg')\n",
    "\n",
    "def plot(m,interp=False):\n",
    "    f=plt.figure(figsize=(3,6),frameon=True)\n",
    "    plt.imshow(ww,interpolation=None if interp else 'none')\n",
    "plt.imshow(ww)"
   ]
  },
  {
   "cell_type": "raw",
   "metadata": {},
   "source": [
    "the above code is not working "
   ]
  },
  {
   "cell_type": "code",
   "execution_count": 43,
   "metadata": {
    "collapsed": false
   },
   "outputs": [
    {
     "data": {
      "text/plain": [
       "array([[-0.98803121],\n",
       "       [ 0.71935839],\n",
       "       [ 0.07509219]])"
      ]
     },
     "execution_count": 43,
     "metadata": {},
     "output_type": "execute_result"
    }
   ],
   "source": [
    "2*numpy.random.random((3,1))-1"
   ]
  }
 ],
 "metadata": {
  "kernelspec": {
   "display_name": "Python 2",
   "language": "python",
   "name": "python2"
  },
  "language_info": {
   "codemirror_mode": {
    "name": "ipython",
    "version": 2
   },
   "file_extension": ".py",
   "mimetype": "text/x-python",
   "name": "python",
   "nbconvert_exporter": "python",
   "pygments_lexer": "ipython2",
   "version": "2.7.13"
  }
 },
 "nbformat": 4,
 "nbformat_minor": 2
}
