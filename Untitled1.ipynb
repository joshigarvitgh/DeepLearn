{
 "cells": [
  {
   "cell_type": "code",
   "execution_count": 1,
   "metadata": {
    "collapsed": false
   },
   "outputs": [
    {
     "name": "stderr",
     "output_type": "stream",
     "text": [
      "Using Theano backend.\n",
      "WARNING (theano.sandbox.cuda): The cuda backend is deprecated and will be removed in the next release (v0.10).  Please switch to the gpuarray backend. You can get more information about how to switch at this URL:\n",
      " https://github.com/Theano/Theano/wiki/Converting-to-the-new-gpu-back-end%28gpuarray%29\n",
      "\n",
      "Using gpu device 0: GeForce GTX 960M (CNMeM is disabled, cuDNN not available)\n"
     ]
    }
   ],
   "source": [
    "from keras.preprocessing.image import ImageDataGenerator, array_to_img, img_to_array, load_img\n"
   ]
  },
  {
   "cell_type": "code",
   "execution_count": 2,
   "metadata": {
    "collapsed": true
   },
   "outputs": [],
   "source": [
    "datagen = ImageDataGenerator(\n",
    "    rotation_range = 40, \n",
    "    width_shift_range = 0.2, \n",
    "    height_shift_range = 0.2,\n",
    "    rescale = 1./255,\n",
    "    shear_range = 0.2,\n",
    "    zoom_range = 0.2,\n",
    "    horizontal_flip = True,\n",
    "    fill_mode = 'nearest')"
   ]
  },
  {
   "cell_type": "code",
   "execution_count": null,
   "metadata": {
    "collapsed": false
   },
   "outputs": [],
   "source": []
  },
  {
   "cell_type": "code",
   "execution_count": 3,
   "metadata": {
    "collapsed": false,
    "scrolled": true
   },
   "outputs": [
    {
     "name": "stderr",
     "output_type": "stream",
     "text": [
      "/home/garvit/anaconda3/envs/python2/lib/python2.7/site-packages/keras/backend/theano_backend.py:1500: UserWarning: DEPRECATION: the 'ds' parameter is not going to exist anymore as it is going to be replaced by the parameter 'ws'.\n",
      "  mode='max')\n",
      "/home/garvit/anaconda3/envs/python2/lib/python2.7/site-packages/keras/backend/theano_backend.py:1500: UserWarning: DEPRECATION: the 'st' parameter is not going to exist anymore as it is going to be replaced by the parameter 'stride'.\n",
      "  mode='max')\n",
      "/home/garvit/anaconda3/envs/python2/lib/python2.7/site-packages/keras/backend/theano_backend.py:1500: UserWarning: DEPRECATION: the 'padding' parameter is not going to exist anymore as it is going to be replaced by the parameter 'pad'.\n",
      "  mode='max')\n"
     ]
    }
   ],
   "source": [
    "from keras.models import Sequential\n",
    "from keras.layers import Convolution2D, MaxPooling2D\n",
    "from keras.layers import Activation, Dropout, Flatten, Dense\n",
    "\n",
    "model = Sequential()\n",
    "model.add(Convolution2D(32, 3, 3, input_shape=(3, 224, 224)))\n",
    "model.add(Activation('relu'))\n",
    "model.add(MaxPooling2D(pool_size=(2, 2)))\n",
    "\n",
    "model.add(Convolution2D(64, 3, 3))\n",
    "model.add(Activation('relu'))\n",
    "model.add(Convolution2D(64, 3, 3))\n",
    "model.add(Activation('relu'))\n",
    "model.add(MaxPooling2D(pool_size=(2, 2)))\n",
    "\n",
    "model.add(Convolution2D(128, 3, 3))\n",
    "model.add(Convolution2D(128, 3, 3))\n",
    "model.add(Activation('relu'))\n",
    "model.add(MaxPooling2D(pool_size=(2, 2)))"
   ]
  },
  {
   "cell_type": "code",
   "execution_count": 4,
   "metadata": {
    "collapsed": false
   },
   "outputs": [],
   "source": [
    "model.add(Flatten())  # this converts our 3D feature maps to 1D feature vectors\n",
    "model.add(Dense(256))\n",
    "model.add(Activation('relu'))\n",
    "model.add(Dropout(0.8))\n",
    "model.add(Dense(10))\n",
    "model.add(Activation('softmax'))\n",
    "\n",
    "model.compile(loss='categorical_crossentropy',\n",
    "              optimizer='rmsprop',\n",
    "              metrics=['accuracy'])"
   ]
  },
  {
   "cell_type": "code",
   "execution_count": 5,
   "metadata": {
    "collapsed": false
   },
   "outputs": [
    {
     "name": "stdout",
     "output_type": "stream",
     "text": [
      "Found 20444 images belonging to 10 classes.\n",
      "Found 1980 images belonging to 10 classes.\n"
     ]
    }
   ],
   "source": [
    "batch_size = 32\n",
    "\n",
    "# this is the augmentation configuration we will use for training\n",
    "train_datagen = ImageDataGenerator(\n",
    "        rescale=1./255,\n",
    "        shear_range=0.2,\n",
    "        zoom_range=0.2,\n",
    "        horizontal_flip=True)\n",
    "\n",
    "# this is the augmentation configuration we will use for testing:\n",
    "# only rescaling\n",
    "test_datagen = ImageDataGenerator(rescale=1./255)\n",
    "\n",
    "# this is a generator that will read pictures found in\n",
    "# subfolers of 'data/train', and indefinitely generate\n",
    "# batches of augmented image data\n",
    "train_generator = train_datagen.flow_from_directory(\n",
    "        'statefarm/train',  # this is the target directory\n",
    "        target_size=(224, 224),  # all images will be resized to 150x150\n",
    "        batch_size=batch_size,\n",
    "        class_mode='categorical')  # since we use binary_crossentropy loss, we need binary labels\n",
    "\n",
    "# this is a similar generator, for validation data\n",
    "validation_generator = test_datagen.flow_from_directory(\n",
    "        'statefarm/valid',\n",
    "        target_size=(224, 224),\n",
    "        batch_size=batch_size,\n",
    "        class_mode='categorical')"
   ]
  },
  {
   "cell_type": "code",
   "execution_count": 6,
   "metadata": {
    "collapsed": false
   },
   "outputs": [
    {
     "name": "stdout",
     "output_type": "stream",
     "text": [
      "Epoch 1/100\n",
      "32/32 [==============================] - 2s - loss: 2.3145 - acc: 0.0938 - val_loss: 13.7053 - val_acc: 0.1094\n",
      "Epoch 2/100\n",
      "32/32 [==============================] - 1s - loss: 12.6202 - acc: 0.1875 - val_loss: 4.0075 - val_acc: 0.0781\n",
      "Epoch 3/100\n",
      "32/32 [==============================] - 1s - loss: 5.5280 - acc: 0.0625 - val_loss: 2.4756 - val_acc: 0.0781\n",
      "Epoch 4/100\n",
      "32/32 [==============================] - 1s - loss: 2.9772 - acc: 0.0625 - val_loss: 2.3028 - val_acc: 0.0938\n",
      "Epoch 5/100\n",
      "32/32 [==============================] - 1s - loss: 2.3186 - acc: 0.0312 - val_loss: 2.3031 - val_acc: 0.0781\n",
      "Epoch 6/100\n",
      "32/32 [==============================] - 1s - loss: 2.3040 - acc: 0.0938 - val_loss: 2.3039 - val_acc: 0.0625\n",
      "Epoch 7/100\n",
      "32/32 [==============================] - 1s - loss: 2.3030 - acc: 0.0938 - val_loss: 2.3044 - val_acc: 0.0781\n",
      "Epoch 8/100\n",
      "32/32 [==============================] - 1s - loss: 2.3025 - acc: 0.0625 - val_loss: 2.3048 - val_acc: 0.0625\n",
      "Epoch 9/100\n",
      "32/32 [==============================] - 1s - loss: 2.3043 - acc: 0.0625 - val_loss: 2.3021 - val_acc: 0.1250\n",
      "Epoch 10/100\n",
      "32/32 [==============================] - 1s - loss: 2.3021 - acc: 0.1562 - val_loss: 2.3032 - val_acc: 0.0938\n",
      "Epoch 11/100\n",
      "32/32 [==============================] - 1s - loss: 2.3024 - acc: 0.1250 - val_loss: 2.3031 - val_acc: 0.0938\n",
      "Epoch 12/100\n",
      "32/32 [==============================] - 1s - loss: 2.3033 - acc: 0.0625 - val_loss: 2.3034 - val_acc: 0.0781\n",
      "Epoch 13/100\n",
      "32/32 [==============================] - 1s - loss: 2.3001 - acc: 0.0938 - val_loss: 2.3044 - val_acc: 0.0938\n",
      "Epoch 14/100\n",
      "32/32 [==============================] - 1s - loss: 2.3024 - acc: 0.0312 - val_loss: 2.3036 - val_acc: 0.1250\n",
      "Epoch 15/100\n",
      "32/32 [==============================] - 1s - loss: 2.3037 - acc: 0.0312 - val_loss: 2.3037 - val_acc: 0.1250\n",
      "Epoch 16/100\n",
      "32/32 [==============================] - 1s - loss: 2.3037 - acc: 0.0625 - val_loss: 2.3040 - val_acc: 0.1094\n",
      "Epoch 17/100\n",
      "32/32 [==============================] - 1s - loss: 2.3048 - acc: 0.0625 - val_loss: 2.3036 - val_acc: 0.0781\n",
      "Epoch 18/100\n",
      "32/32 [==============================] - 1s - loss: 2.2992 - acc: 0.0938 - val_loss: 2.3058 - val_acc: 0.0469\n",
      "Epoch 19/100\n",
      "32/32 [==============================] - 1s - loss: 2.3054 - acc: 0.0625 - val_loss: 2.3020 - val_acc: 0.1094\n",
      "Epoch 20/100\n",
      "32/32 [==============================] - 1s - loss: 2.3027 - acc: 0.0938 - val_loss: 2.3031 - val_acc: 0.0781\n",
      "Epoch 21/100\n",
      "32/32 [==============================] - 2s - loss: 2.3032 - acc: 0.0938 - val_loss: 2.3042 - val_acc: 0.0978\n",
      "Epoch 22/100\n",
      "32/32 [==============================] - 1s - loss: 2.3014 - acc: 0.0625 - val_loss: 2.3032 - val_acc: 0.1250\n",
      "Epoch 23/100\n",
      "32/32 [==============================] - 1s - loss: 2.3026 - acc: 0.0625 - val_loss: 2.3047 - val_acc: 0.0938\n",
      "Epoch 24/100\n",
      "32/32 [==============================] - 1s - loss: 2.3054 - acc: 0.0312 - val_loss: 2.3045 - val_acc: 0.1094\n",
      "Epoch 25/100\n",
      "32/32 [==============================] - 1s - loss: 2.3043 - acc: 0.0625 - val_loss: 2.3044 - val_acc: 0.0781\n",
      "Epoch 26/100\n",
      "32/32 [==============================] - 1s - loss: 2.3037 - acc: 0.0625 - val_loss: 2.3046 - val_acc: 0.0938\n",
      "Epoch 27/100\n",
      "32/32 [==============================] - 1s - loss: 2.2996 - acc: 0.1875 - val_loss: 2.3041 - val_acc: 0.0469\n",
      "Epoch 28/100\n",
      "32/32 [==============================] - 1s - loss: 2.3032 - acc: 0.1250 - val_loss: 2.3040 - val_acc: 0.1562\n",
      "Epoch 29/100\n",
      "32/32 [==============================] - 1s - loss: 2.3004 - acc: 0.1562 - val_loss: 2.3043 - val_acc: 0.1562\n",
      "Epoch 30/100\n",
      "32/32 [==============================] - 1s - loss: 2.3023 - acc: 0.0625 - val_loss: 2.3041 - val_acc: 0.0781\n",
      "Epoch 31/100\n",
      "32/32 [==============================] - 1s - loss: 2.3034 - acc: 0.1250 - val_loss: 2.3029 - val_acc: 0.1562\n",
      "Epoch 32/100\n",
      "32/32 [==============================] - 1s - loss: 2.3006 - acc: 0.0625 - val_loss: 2.3050 - val_acc: 0.0625\n",
      "Epoch 33/100\n",
      "32/32 [==============================] - 1s - loss: 2.2976 - acc: 0.2812 - val_loss: 2.3045 - val_acc: 0.0938\n",
      "Epoch 34/100\n",
      "32/32 [==============================] - 1s - loss: 2.3035 - acc: 0.0625 - val_loss: 2.3060 - val_acc: 0.0469\n",
      "Epoch 35/100\n",
      "32/32 [==============================] - 1s - loss: 2.3050 - acc: 0.0625 - val_loss: 2.3036 - val_acc: 0.0938\n",
      "Epoch 36/100\n",
      "32/32 [==============================] - 1s - loss: 2.3028 - acc: 0.0625 - val_loss: 2.3054 - val_acc: 0.0625\n",
      "Epoch 37/100\n",
      "32/32 [==============================] - 1s - loss: 2.2985 - acc: 0.1250 - val_loss: 2.3063 - val_acc: 0.0156\n",
      "Epoch 38/100\n",
      "32/32 [==============================] - 1s - loss: 2.3030 - acc: 0.1250 - val_loss: 2.3051 - val_acc: 0.1250\n",
      "Epoch 39/100\n",
      "32/32 [==============================] - 1s - loss: 2.3035 - acc: 0.0938 - val_loss: 2.3019 - val_acc: 0.0781\n",
      "Epoch 40/100\n",
      "32/32 [==============================] - 1s - loss: 2.3022 - acc: 0.0625 - val_loss: 2.3034 - val_acc: 0.0938\n",
      "Epoch 41/100\n",
      "32/32 [==============================] - 1s - loss: 2.3043 - acc: 0.0312 - val_loss: 2.3060 - val_acc: 0.1250\n",
      "Epoch 42/100\n",
      "32/32 [==============================] - 1s - loss: 2.3028 - acc: 0.0938 - val_loss: 2.3035 - val_acc: 0.1094\n",
      "Epoch 43/100\n",
      "32/32 [==============================] - 1s - loss: 2.3045 - acc: 0.1250 - val_loss: 2.3041 - val_acc: 0.1250\n",
      "Epoch 44/100\n",
      "32/32 [==============================] - 1s - loss: 2.3037 - acc: 0.0312 - val_loss: 2.3030 - val_acc: 0.1094\n",
      "Epoch 45/100\n",
      "32/32 [==============================] - 1s - loss: 2.3008 - acc: 0.0625 - val_loss: 2.3021 - val_acc: 0.1562\n",
      "Epoch 46/100\n",
      "32/32 [==============================] - 1s - loss: 2.3022 - acc: 0.0938 - val_loss: 2.3048 - val_acc: 0.0938\n",
      "Epoch 47/100\n",
      "32/32 [==============================] - 1s - loss: 2.3019 - acc: 0.0625 - val_loss: 2.3068 - val_acc: 0.1094\n",
      "Epoch 48/100\n",
      "32/32 [==============================] - 1s - loss: 2.2989 - acc: 0.2188 - val_loss: 2.3039 - val_acc: 0.0469\n",
      "Epoch 49/100\n",
      "32/32 [==============================] - 1s - loss: 2.3085 - acc: 0.0312 - val_loss: 2.3060 - val_acc: 0.0312\n",
      "Epoch 50/100\n",
      "32/32 [==============================] - 1s - loss: 2.3019 - acc: 0.0938 - val_loss: 2.3064 - val_acc: 0.0469\n",
      "Epoch 51/100\n",
      "32/32 [==============================] - 1s - loss: 2.2955 - acc: 0.0938 - val_loss: 2.3051 - val_acc: 0.0625\n",
      "Epoch 52/100\n",
      "32/32 [==============================] - 1s - loss: 2.3052 - acc: 0.0938 - val_loss: 2.3055 - val_acc: 0.0625\n",
      "Epoch 53/100\n",
      "32/32 [==============================] - 1s - loss: 2.3015 - acc: 0.1875 - val_loss: 2.3030 - val_acc: 0.1250\n",
      "Epoch 54/100\n",
      "32/32 [==============================] - 1s - loss: 2.2976 - acc: 0.1562 - val_loss: 2.3023 - val_acc: 0.1094\n",
      "Epoch 55/100\n",
      "32/32 [==============================] - 1s - loss: 2.3005 - acc: 0.1562 - val_loss: 2.3024 - val_acc: 0.1406\n",
      "Epoch 56/100\n",
      "32/32 [==============================] - 1s - loss: 2.2962 - acc: 0.1875 - val_loss: 2.3025 - val_acc: 0.0938\n",
      "Epoch 57/100\n",
      "32/32 [==============================] - 1s - loss: 2.3033 - acc: 0.1250 - val_loss: 2.3031 - val_acc: 0.1406\n",
      "Epoch 58/100\n",
      "32/32 [==============================] - 1s - loss: 2.2996 - acc: 0.1875 - val_loss: 2.3036 - val_acc: 0.0781\n",
      "Epoch 59/100\n",
      "32/32 [==============================] - 1s - loss: 2.3062 - acc: 0.0625 - val_loss: 2.3046 - val_acc: 0.0625\n",
      "Epoch 60/100\n",
      "32/32 [==============================] - 1s - loss: 2.3024 - acc: 0.0625 - val_loss: 2.3060 - val_acc: 0.0781\n",
      "Epoch 61/100\n",
      "32/32 [==============================] - 1s - loss: 2.3031 - acc: 0.0625 - val_loss: 2.3037 - val_acc: 0.1250\n",
      "Epoch 62/100\n",
      "32/32 [==============================] - 2s - loss: 2.2982 - acc: 0.1562 - val_loss: 2.3035 - val_acc: 0.1087\n",
      "Epoch 63/100\n",
      "32/32 [==============================] - 1s - loss: 2.3034 - acc: 0.1250 - val_loss: 2.3023 - val_acc: 0.1406\n",
      "Epoch 64/100\n",
      "32/32 [==============================] - 1s - loss: 2.3050 - acc: 0.0938 - val_loss: 2.3014 - val_acc: 0.0781\n",
      "Epoch 65/100\n",
      "32/32 [==============================] - 1s - loss: 2.3007 - acc: 0.0938 - val_loss: 2.3060 - val_acc: 0.0938\n",
      "Epoch 66/100\n",
      "32/32 [==============================] - 1s - loss: 2.2997 - acc: 0.0938 - val_loss: 2.3065 - val_acc: 0.0156\n",
      "Epoch 67/100\n",
      "32/32 [==============================] - 1s - loss: 2.2990 - acc: 0.1250 - val_loss: 2.3029 - val_acc: 0.1250\n",
      "Epoch 68/100\n",
      "32/32 [==============================] - 1s - loss: 2.3068 - acc: 0.0312 - val_loss: 2.3024 - val_acc: 0.0938\n",
      "Epoch 69/100\n",
      "32/32 [==============================] - 1s - loss: 2.3085 - acc: 0.1250 - val_loss: 2.3045 - val_acc: 0.1406\n",
      "Epoch 70/100\n",
      "32/32 [==============================] - 1s - loss: 2.3009 - acc: 0.1562 - val_loss: 2.3053 - val_acc: 0.0625\n",
      "Epoch 71/100\n",
      "32/32 [==============================] - 1s - loss: 2.3039 - acc: 0.1250 - val_loss: 2.3044 - val_acc: 0.0625\n",
      "Epoch 72/100\n",
      "32/32 [==============================] - 1s - loss: 2.3069 - acc: 0.0625 - val_loss: 2.3011 - val_acc: 0.1562\n",
      "Epoch 73/100\n",
      "32/32 [==============================] - 1s - loss: 2.3015 - acc: 0.1875 - val_loss: 2.3031 - val_acc: 0.0938\n",
      "Epoch 74/100\n",
      "32/32 [==============================] - 1s - loss: 2.3023 - acc: 0.0312 - val_loss: 2.3051 - val_acc: 0.0625\n",
      "Epoch 75/100\n",
      "32/32 [==============================] - 1s - loss: 2.3023 - acc: 0.0938 - val_loss: 2.3047 - val_acc: 0.1094\n",
      "Epoch 76/100\n",
      "32/32 [==============================] - 1s - loss: 2.2971 - acc: 0.1562 - val_loss: 2.3081 - val_acc: 0.0156\n",
      "Epoch 77/100\n",
      "32/32 [==============================] - 1s - loss: 2.3062 - acc: 0.0625 - val_loss: 2.3050 - val_acc: 0.0938\n",
      "Epoch 78/100\n",
      "32/32 [==============================] - 1s - loss: 2.3050 - acc: 0.1250 - val_loss: 2.3043 - val_acc: 0.0625\n",
      "Epoch 79/100\n",
      "32/32 [==============================] - 1s - loss: 2.3077 - acc: 0.0000e+00 - val_loss: 2.3031 - val_acc: 0.0938\n",
      "Epoch 80/100\n",
      "32/32 [==============================] - 1s - loss: 2.3028 - acc: 0.0938 - val_loss: 2.3032 - val_acc: 0.0938\n",
      "Epoch 81/100\n",
      "32/32 [==============================] - 1s - loss: 2.2972 - acc: 0.0938 - val_loss: 2.3034 - val_acc: 0.1094\n",
      "Epoch 82/100\n",
      "32/32 [==============================] - 1s - loss: 2.3020 - acc: 0.0938 - val_loss: 2.3048 - val_acc: 0.1250\n",
      "Epoch 83/100\n",
      "32/32 [==============================] - 1s - loss: 2.2959 - acc: 0.1250 - val_loss: 2.3039 - val_acc: 0.0781\n",
      "Epoch 84/100\n",
      "32/32 [==============================] - 1s - loss: 2.3013 - acc: 0.0938 - val_loss: 2.3021 - val_acc: 0.0625\n",
      "Epoch 85/100\n",
      "32/32 [==============================] - 1s - loss: 2.2908 - acc: 0.3125 - val_loss: 2.3050 - val_acc: 0.1250\n",
      "Epoch 86/100\n",
      "32/32 [==============================] - 1s - loss: 2.3082 - acc: 0.0938 - val_loss: 2.3035 - val_acc: 0.1094\n",
      "Epoch 87/100\n",
      "32/32 [==============================] - 1s - loss: 2.2995 - acc: 0.0938 - val_loss: 2.3056 - val_acc: 0.0625\n",
      "Epoch 88/100\n",
      "32/32 [==============================] - 1s - loss: 2.3046 - acc: 0.0938 - val_loss: 2.3180 - val_acc: 0.0938\n",
      "Epoch 89/100\n",
      "32/32 [==============================] - 1s - loss: 2.3381 - acc: 0.0625 - val_loss: 2.3027 - val_acc: 0.0781\n",
      "Epoch 90/100\n",
      "32/32 [==============================] - 1s - loss: 2.3042 - acc: 0.0312 - val_loss: 2.3030 - val_acc: 0.0938\n",
      "Epoch 91/100\n",
      "32/32 [==============================] - 1s - loss: 2.3077 - acc: 0.1250 - val_loss: 2.2935 - val_acc: 0.0938\n",
      "Epoch 92/100\n",
      "32/32 [==============================] - 1s - loss: 2.3224 - acc: 0.0938 - val_loss: 2.3045 - val_acc: 0.0781\n",
      "Epoch 93/100\n",
      "32/32 [==============================] - 1s - loss: 2.3027 - acc: 0.0625 - val_loss: 2.3082 - val_acc: 0.0312\n",
      "Epoch 94/100\n",
      "32/32 [==============================] - 1s - loss: 2.2980 - acc: 0.1875 - val_loss: 2.3038 - val_acc: 0.0938\n",
      "Epoch 95/100\n",
      "32/32 [==============================] - 1s - loss: 2.2972 - acc: 0.0625 - val_loss: 2.3012 - val_acc: 0.1406\n",
      "Epoch 96/100\n",
      "32/32 [==============================] - 1s - loss: 2.3016 - acc: 0.1250 - val_loss: 2.3040 - val_acc: 0.0781\n",
      "Epoch 97/100\n",
      "32/32 [==============================] - 1s - loss: 2.3077 - acc: 0.1562 - val_loss: 2.3052 - val_acc: 0.0781\n",
      "Epoch 98/100\n",
      "32/32 [==============================] - 1s - loss: 2.3022 - acc: 0.1250 - val_loss: 2.3036 - val_acc: 0.0938\n",
      "Epoch 99/100\n",
      "32/32 [==============================] - 1s - loss: 2.2973 - acc: 0.1875 - val_loss: 2.3048 - val_acc: 0.1406\n",
      "Epoch 100/100\n",
      "32/32 [==============================] - 1s - loss: 2.2997 - acc: 0.1562 - val_loss: 2.3001 - val_acc: 0.1250\n"
     ]
    },
    {
     "data": {
      "text/plain": [
       "<keras.callbacks.History at 0x7ffa7a36d9d0>"
      ]
     },
     "execution_count": 6,
     "metadata": {},
     "output_type": "execute_result"
    }
   ],
   "source": [
    "model.fit_generator(train_generator, samples_per_epoch = 32,\n",
    "                    nb_epoch = 100, validation_data = validation_generator,nb_val_samples = 64)"
   ]
  },
  {
   "cell_type": "code",
   "execution_count": null,
   "metadata": {
    "collapsed": true
   },
   "outputs": [],
   "source": []
  }
 ],
 "metadata": {
  "kernelspec": {
   "display_name": "Python 2",
   "language": "python",
   "name": "python2"
  },
  "language_info": {
   "codemirror_mode": {
    "name": "ipython",
    "version": 2
   },
   "file_extension": ".py",
   "mimetype": "text/x-python",
   "name": "python",
   "nbconvert_exporter": "python",
   "pygments_lexer": "ipython2",
   "version": "2.7.13"
  }
 },
 "nbformat": 4,
 "nbformat_minor": 2
}
