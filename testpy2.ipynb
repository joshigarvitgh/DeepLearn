{
 "cells": [
  {
   "cell_type": "code",
   "execution_count": 4,
   "metadata": {
    "collapsed": false
   },
   "outputs": [
    {
     "name": "stdout",
     "output_type": "stream",
     "text": [
      "enter username  ghost\n",
      " failure \n",
      "enter username  deamon\n",
      " success \n"
     ]
    }
   ],
   "source": [
    "while True:\n",
    "    x=raw_input('enter username  ')\n",
    "    if(x==\"deamon\"):\n",
    "        print \" success \"\n",
    "        break\n",
    "    else:\n",
    "        print \" failure \"\n",
    "        \n"
   ]
  },
  {
   "cell_type": "code",
   "execution_count": 5,
   "metadata": {
    "collapsed": false
   },
   "outputs": [
    {
     "name": "stdout",
     "output_type": "stream",
     "text": [
      "enter the number 15\n",
      "enter the number 22\n",
      "5\n",
      "2\n",
      "2\n",
      "5\n"
     ]
    }
   ],
   "source": [
    "a=raw_input('enter the number 1')\n",
    "b=raw_input('enter the number 2')\n",
    "print a\n",
    "print b\n",
    "a,b=b,a\n",
    "print a\n",
    "print b"
   ]
  },
  {
   "cell_type": "code",
   "execution_count": null,
   "metadata": {
    "collapsed": true
   },
   "outputs": [],
   "source": []
  }
 ],
 "metadata": {
  "kernelspec": {
   "display_name": "Python 2",
   "language": "python",
   "name": "python2"
  },
  "language_info": {
   "codemirror_mode": {
    "name": "ipython",
    "version": 2
   },
   "file_extension": ".py",
   "mimetype": "text/x-python",
   "name": "python",
   "nbconvert_exporter": "python",
   "pygments_lexer": "ipython2",
   "version": "2.7.13"
  }
 },
 "nbformat": 4,
 "nbformat_minor": 2
}
