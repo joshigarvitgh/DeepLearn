{
 "cells": [
  {
   "cell_type": "code",
   "execution_count": null,
   "metadata": {
    "collapsed": true
   },
   "outputs": [],
   "source": [
    "while True:\n",
    "    x=raw_input('enter username  ')\n",
    "    if(x==\"deamon\"):\n",
    "        print\" success \"\n",
    "        break\n",
    "    else:\n",
    "        print\" failure \"\n",
    "        "
   ]
  },
  {
   "cell_type": "code",
   "execution_count": null,
   "metadata": {
    "collapsed": false
   },
   "outputs": [],
   "source": [
    "f=0\n",
    "for i in range(5):\n",
    "    x=int(input('enter the number'))\n",
    "    if(x > 6):\n",
    "        print(\"overguess\")\n",
    "    if(x < 6):\n",
    "        print(\"underguess\")\n",
    "    if(x==6):\n",
    "        print(\"congrats\")\n",
    "        f=1\n",
    "        break\n",
    "if(f==0):\n",
    "    print(\"sorry you lost\")"
   ]
  },
  {
   "cell_type": "markdown",
   "metadata": {},
   "source": [
    "#markdownLaTeX"
   ]
  },
  {
   "cell_type": "code",
   "execution_count": null,
   "metadata": {
    "collapsed": false
   },
   "outputs": [],
   "source": [
    "list = [1,2,3,4,5]\n",
    "for i in list:\n",
    "    print(i)"
   ]
  },
  {
   "cell_type": "code",
   "execution_count": null,
   "metadata": {
    "collapsed": false
   },
   "outputs": [],
   "source": [
    "list.insert(2,\"death\")\n",
    "print (list)"
   ]
  },
  {
   "cell_type": "code",
   "execution_count": null,
   "metadata": {
    "collapsed": false
   },
   "outputs": [],
   "source": [
    "del list[2]\n",
    "print (list)"
   ]
  },
  {
   "cell_type": "code",
   "execution_count": 2,
   "metadata": {
    "collapsed": false
   },
   "outputs": [
    {
     "name": "stdout",
     "output_type": "stream",
     "text": [
      "life death\n",
      "god deamon\n"
     ]
    }
   ],
   "source": [
    "dicto={\"life\":\"death\",\"god\":\"deamon\"}\n",
    "for i,j in dicto.items():\n",
    "    print (i,j) "
   ]
  },
  {
   "cell_type": "code",
   "execution_count": 3,
   "metadata": {
    "collapsed": false
   },
   "outputs": [
    {
     "name": "stdout",
     "output_type": "stream",
     "text": [
      "life\n",
      "god\n",
      "life\n",
      "god\n"
     ]
    }
   ],
   "source": [
    "y=tuple(dicto)\n",
    "x=list(dicto)\n",
    "for i,j in y,x:\n",
    "    print(i)\n",
    "    print(j)"
   ]
  },
  {
   "cell_type": "code",
   "execution_count": 14,
   "metadata": {
    "collapsed": false
   },
   "outputs": [
    {
     "name": "stdout",
     "output_type": "stream",
     "text": [
      "{1: 2, 3: 4, 5: 6, 7: 8, 9: 10}\n"
     ]
    }
   ],
   "source": [
    "listt=[1,2,3,4,5,6,7,8,9,10]\n",
    "ddic={}\n",
    "cnt=0\n",
    "for i in listt:\n",
    "    if(cnt%2==0):\n",
    "        ddic[i]=listt[cnt+1]\n",
    "    cnt=cnt+1\n",
    "print(ddic)"
   ]
  },
  {
   "cell_type": "code",
   "execution_count": 21,
   "metadata": {
    "collapsed": false
   },
   "outputs": [
    {
     "name": "stdout",
     "output_type": "stream",
     "text": [
      "{1: 2, 3: 'lf', 5: 6, 7: 8, 9: 10, 'gh': 'lf'}\n"
     ]
    }
   ],
   "source": [
    "ddic.update({3:\"lf\"})\n",
    "print(ddic)"
   ]
  },
  {
   "cell_type": "code",
   "execution_count": 36,
   "metadata": {
    "collapsed": false
   },
   "outputs": [
    {
     "name": "stdout",
     "output_type": "stream",
     "text": [
      "textwe\n",
      "num2\n",
      "we\n",
      "we\n"
     ]
    }
   ],
   "source": [
    "def cough(one,num):\n",
    "    for i in range(int(num)):\n",
    "        print(one)\n",
    "x=input('text')\n",
    "y=input('num')\n",
    "cough(x,y)\n",
    "\n",
    "\n",
    "    \n"
   ]
  },
  {
   "cell_type": "code",
   "execution_count": 40,
   "metadata": {
    "collapsed": false
   },
   "outputs": [
    {
     "name": "stdout",
     "output_type": "stream",
     "text": [
      "2\n",
      "3\n",
      "3 2\n"
     ]
    }
   ],
   "source": [
    "a=input()\n",
    "b=input()\n",
    "a,b=b,a,b\n",
    "print(a,b)"
   ]
  },
  {
   "cell_type": "code",
   "execution_count": 45,
   "metadata": {
    "collapsed": true
   },
   "outputs": [
    {
     "name": "stdout",
     "output_type": "stream",
     "text": [
      "output\n",
      "10\n",
      "output\n",
      "10\n",
      "30\n",
      "40\n"
     ]
    }
   ],
   "source": [
    "def pritninfo(arg1,*vartuple):\n",
    "    print (\"output\")\n",
    "    print (arg1)\n",
    "    \n",
    "    for var in vartuple:\n",
    "        print (var)\n",
    "    return;\n",
    "\n",
    "pritninfo(10)\n",
    "pritninfo(10,30,40)\n"
   ]
  },
  {
   "cell_type": "code",
   "execution_count": 47,
   "metadata": {
    "collapsed": false
   },
   "outputs": [
    {
     "name": "stdout",
     "output_type": "stream",
     "text": [
      "total values 30\n"
     ]
    }
   ],
   "source": [
    "sum=lambda arg1,arg2:arg1+arg2\n",
    "print(\"total values\",sum(10,20))"
   ]
  },
  {
   "cell_type": "code",
   "execution_count": null,
   "metadata": {
    "collapsed": true
   },
   "outputs": [],
   "source": []
  }
 ],
 "metadata": {
  "kernelspec": {
   "display_name": "Python 2",
   "language": "python",
   "name": "python2"
  },
  "language_info": {
   "codemirror_mode": {
    "name": "ipython",
    "version": 2
   },
   "file_extension": ".py",
   "mimetype": "text/x-python",
   "name": "python",
   "nbconvert_exporter": "python",
   "pygments_lexer": "ipython2",
   "version": "2.7.13"
  }
 },
 "nbformat": 4,
 "nbformat_minor": 2
}
