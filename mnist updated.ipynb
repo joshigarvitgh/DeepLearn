{
 "cells": [
  {
   "cell_type": "code",
   "execution_count": 1,
   "metadata": {},
   "outputs": [
    {
     "name": "stderr",
     "output_type": "stream",
     "text": [
      "Using Theano backend.\n",
      "ERROR (theano.sandbox.cuda): Failed to compile cuda_ndarray.cu: libcublas.so.7.0: cannot open shared object file: No such file or directory\n",
      "WARNING (theano.sandbox.cuda): The cuda backend is deprecated and will be removed in the next release (v0.10).  Please switch to the gpuarray backend. You can get more information about how to switch at this URL:\n",
      " https://github.com/Theano/Theano/wiki/Converting-to-the-new-gpu-back-end%28gpuarray%29\n",
      "\n",
      "WARNING (theano.sandbox.cuda): CUDA is installed, but device gpu is not available  (error: cuda unavailable)\n"
     ]
    }
   ],
   "source": [
    "%matplotlib inline\n",
    "\n",
    "import matplotlib.pyplot as plt\n",
    "import shutil, csv, os, numpy as np\n",
    "import pandas as pd\n",
    "from glob import glob\n",
    "from __future__ import print_function, division\n",
    "\n",
    "import keras\n",
    "from keras.models import Sequential\n",
    "from keras.layers.normalization import BatchNormalization\n",
    "from keras.layers.core import Dense, Dropout, Flatten, Activation, Lambda\n",
    "from keras.layers.convolutional import Convolution2D, MaxPooling2D, ZeroPadding2D\n",
    "from keras.utils import np_utils\n",
    "from keras.utils.data_utils import get_file\n",
    "from keras.optimizers import Adam, RMSprop, SGD, Adagrad\n",
    "from keras.preprocessing import image\n",
    "from keras.models import model_from_json"
   ]
  },
  {
   "cell_type": "code",
   "execution_count": 5,
   "metadata": {},
   "outputs": [],
   "source": [
    "path = '/media/aditya/90ECEBF8ECEBD70E/deeplearning datay/analytics vidhya/mnist dataset/'\n",
    "batch_size = 64\n",
    "def get_batches(path, gen = image.ImageDataGenerator(rescale = 1./255), shuffle = True, batch_size = batch_size, class_mode = 'categorical'):\n",
    "    return gen.flow_from_directory(path, target_size = (28, 28), class_mode = class_mode, shuffle = shuffle, batch_size = batch_size)"
   ]
  },
  {
   "cell_type": "code",
   "execution_count": 6,
   "metadata": {},
   "outputs": [
    {
     "name": "stdout",
     "output_type": "stream",
     "text": [
      "Found 3917 images belonging to 10 classes.\n",
      "Found 975 images belonging to 10 classes.\n"
     ]
    }
   ],
   "source": [
    "batches = get_batches(path + 'sample/train/', batch_size = batch_size)\n",
    "val_batches = get_batches(path + 'sample/valid/', batch_size = batch_size)"
   ]
  },
  {
   "cell_type": "code",
   "execution_count": 26,
   "metadata": {
    "collapsed": true
   },
   "outputs": [],
   "source": [
    "model = Sequential()\n",
    "\n",
    "model.add(Convolution2D(32, 5, 5, input_shape=(3, 28, 28), border_mode='same', activation='relu'))\n",
    "model.add(Convolution2D(32, 5, 5, input_shape=(3, 28, 28), border_mode='same', activation='relu'))\n",
    "model.add(Convolution2D(32, 5, 5, input_shape=(3, 28, 28), border_mode='same', activation='relu'))\n",
    "model.add(Convolution2D(32, 5, 5, input_shape=(3, 28, 28), border_mode='same', activation='relu'))\n",
    "model.add(MaxPooling2D((2, 2)))\n",
    "\n",
    "model.add(Convolution2D(64, 5, 5, border_mode='same', activation='relu'))\n",
    "model.add(Convolution2D(64, 5, 5, border_mode='same', activation='relu'))\n",
    "model.add(Convolution2D(64, 5, 5, border_mode='same', activation='relu'))\n",
    "model.add(Convolution2D(64, 5, 5, border_mode='same', activation='relu'))\n",
    "model.add(MaxPooling2D((2, 2)))\n",
    "\n",
    "model.add(Convolution2D(128, 5, 5, border_mode='same', activation='relu'))\n",
    "model.add(Convolution2D(128, 5, 5, border_mode='same', activation='relu'))\n",
    "model.add(Convolution2D(128, 5, 5, border_mode='same', activation='relu'))\n",
    "model.add(MaxPooling2D((2, 2)))\n",
    "\n",
    "model.add(Flatten())  # this converts our 3D feature maps to 1D feature vectors\n",
    "model.add(Dense(512, activation='relu'))\n",
    "model.add(Dense(512, activation='relu'))\n",
    "# model.add(Dropout(0.5))\n",
    "model.add(Dense(10, activation='softmax'))\n",
    "\n",
    "model.compile(loss='categorical_crossentropy', optimizer=Adam(), metrics=['accuracy'])\n",
    "\n",
    "\n",
    "keras.optimizers.lr = 0.00001"
   ]
  },
  {
   "cell_type": "code",
   "execution_count": 27,
   "metadata": {},
   "outputs": [
    {
     "name": "stdout",
     "output_type": "stream",
     "text": [
      "Epoch 1/10\n",
      "3917/3917 [==============================] - 197s - loss: 2.3122 - acc: 0.1246 - val_loss: 2.1358 - val_acc: 0.1621\n",
      "Epoch 2/10\n",
      "3917/3917 [==============================] - 203s - loss: 1.5400 - acc: 0.3669 - val_loss: 1.1115 - val_acc: 0.5446\n",
      "Epoch 3/10\n",
      "3917/3917 [==============================] - 206s - loss: 0.7117 - acc: 0.7536 - val_loss: 0.5522 - val_acc: 0.8349\n",
      "Epoch 4/10\n",
      "3917/3917 [==============================] - 286s - loss: 0.3345 - acc: 0.9127 - val_loss: 0.2160 - val_acc: 0.9446\n",
      "Epoch 5/10\n",
      "3917/3917 [==============================] - 212s - loss: 0.2272 - acc: 0.9423 - val_loss: 0.1382 - val_acc: 0.9559\n",
      "Epoch 6/10\n",
      "3917/3917 [==============================] - 201s - loss: 0.1634 - acc: 0.9538 - val_loss: 0.1759 - val_acc: 0.9569\n",
      "Epoch 7/10\n",
      "3917/3917 [==============================] - 226s - loss: 0.1393 - acc: 0.9604 - val_loss: 0.2240 - val_acc: 0.9436\n",
      "Epoch 8/10\n",
      "3917/3917 [==============================] - 208s - loss: 0.1269 - acc: 0.9696 - val_loss: 0.1159 - val_acc: 0.9672\n",
      "Epoch 9/10\n",
      "3917/3917 [==============================] - 209s - loss: 0.0843 - acc: 0.9752 - val_loss: 0.0874 - val_acc: 0.9754\n",
      "Epoch 10/10\n",
      "3917/3917 [==============================] - 236s - loss: 0.0814 - acc: 0.9732 - val_loss: 0.0631 - val_acc: 0.9815\n"
     ]
    },
    {
     "data": {
      "text/plain": [
       "<keras.callbacks.History at 0x7f1dd96d02d0>"
      ]
     },
     "execution_count": 27,
     "metadata": {},
     "output_type": "execute_result"
    }
   ],
   "source": [
    "model.fit_generator(batches, samples_per_epoch = batches.nb_sample, nb_epoch = 10,\n",
    "                validation_data = val_batches, nb_val_samples = val_batches.nb_sample)"
   ]
  },
  {
   "cell_type": "code",
   "execution_count": null,
   "metadata": {
    "collapsed": true
   },
   "outputs": [],
   "source": []
  }
 ],
 "metadata": {
  "kernelspec": {
   "display_name": "Python [default]",
   "language": "python",
   "name": "python2"
  },
  "language_info": {
   "codemirror_mode": {
    "name": "ipython",
    "version": 2
   },
   "file_extension": ".py",
   "mimetype": "text/x-python",
   "name": "python",
   "nbconvert_exporter": "python",
   "pygments_lexer": "ipython2",
   "version": "2.7.13"
  }
 },
 "nbformat": 4,
 "nbformat_minor": 2
}
